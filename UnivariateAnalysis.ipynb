{
 "cells": [
  {
   "cell_type": "code",
   "execution_count": 1,
   "metadata": {},
   "outputs": [],
   "source": [
    "#importing libraries\n",
    "import pandas as pd\n",
    "import numpy as np"
   ]
  },
  {
   "cell_type": "code",
   "execution_count": 2,
   "metadata": {},
   "outputs": [],
   "source": [
    "df=pd.read_excel(\"Q2_modeling_data.xlsx\")"
   ]
  },
  {
   "cell_type": "code",
   "execution_count": 3,
   "metadata": {},
   "outputs": [],
   "source": [
    "#pivoting the table\n",
    "df_tab=pd.DataFrame(df.describe(include='all')).stack().unstack(0)"
   ]
  },
  {
   "cell_type": "code",
   "execution_count": 4,
   "metadata": {},
   "outputs": [],
   "source": [
    "try:\n",
    "    df_tab['cnt_null'] = df.apply(lambda col: col.isnull().sum())\n",
    "    df_tab['null_%'] = df_tab.apply(lambda row: round((row['cnt_null']/(row['cnt_null']+row['count']))*100,2), axis=1)\n",
    "    df_tab['cnt_unique']=df.apply(lambda col: len(col.unique().tolist()))\n",
    "    df_tab['cnt_zeros'] = df.isin([0]).sum(axis=0)\n",
    "    df_tab['cnt_zero_and_null'] = df_tab['cnt_null']+df_tab['cnt_zeros']\n",
    "    df_tab['zero_null_%'] = df_tab['cnt_zero_and_null']*100 / df.shape[0]\n",
    "    df_tab['Data_Type'] = df.dtypes\n",
    "    df_tab['variance']=df.var(axis=0)\n",
    "    df_tab['mode'] = df.mode().iloc[0,:]\n",
    "    df_tab['1%'] = df.quantile(0.01)\n",
    "    df_tab['5%'] = df.quantile(0.05)\n",
    "    df_tab['95%'] = df.quantile(0.95)\n",
    "    df_tab['99%'] = df.quantile(0.99)\n",
    "except TypeError:\n",
    "    pass\n",
    "df_tab.rename(columns={'50%':'median'},inplace=True)\n",
    "df_tab.rename(columns={'count':'cnt_non_null'},inplace=True)"
   ]
  },
  {
   "cell_type": "code",
   "execution_count": 5,
   "metadata": {
    "scrolled": false
   },
   "outputs": [
    {
     "name": "stdout",
     "output_type": "stream",
     "text": [
      "Index(['cnt_non_null', 'unique', 'top', 'freq', 'mean', 'std', 'min', '25%',\n",
      "       'median', '75%', 'max', 'cnt_null', 'null_%', 'cnt_unique', 'cnt_zeros',\n",
      "       'cnt_zero_and_null', 'zero_null_%', 'Data_Type', 'variance', 'mode',\n",
      "       '1%', '5%', '95%', '99%'],\n",
      "      dtype='object')\n"
     ]
    }
   ],
   "source": [
    "#display the result\n",
    "print(df_tab.columns)\n",
    "df_tab=df_tab[df_tab.columns.difference(['unique','top','freq'])]"
   ]
  },
  {
   "cell_type": "code",
   "execution_count": 6,
   "metadata": {},
   "outputs": [],
   "source": [
    "df_tab=df_tab[['Data_Type','cnt_non_null','cnt_null','null_%','cnt_unique','cnt_zeros','cnt_zero_and_null','zero_null_%','mean','std','min','1%','5%','25%','median','75%','95%','99%','max','variance','mode']]"
   ]
  },
  {
   "cell_type": "code",
   "execution_count": 7,
   "metadata": {},
   "outputs": [],
   "source": [
    "df_tab.to_csv('Univariate_data.csv')"
   ]
  },
  {
   "cell_type": "code",
   "execution_count": null,
   "metadata": {},
   "outputs": [],
   "source": []
  }
 ],
 "metadata": {
  "kernelspec": {
   "display_name": "Python 3",
   "language": "python",
   "name": "python3"
  },
  "language_info": {
   "codemirror_mode": {
    "name": "ipython",
    "version": 3
   },
   "file_extension": ".py",
   "mimetype": "text/x-python",
   "name": "python",
   "nbconvert_exporter": "python",
   "pygments_lexer": "ipython3",
   "version": "3.7.4"
  }
 },
 "nbformat": 4,
 "nbformat_minor": 2
}
